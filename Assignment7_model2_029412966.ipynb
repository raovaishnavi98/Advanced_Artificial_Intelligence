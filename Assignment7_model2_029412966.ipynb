{
 "cells": [
  {
   "cell_type": "code",
   "execution_count": 6,
   "id": "4033d9be",
   "metadata": {},
   "outputs": [],
   "source": [
    "from matplotlib import pyplot\n",
    "from keras.datasets import cifar10\n",
    "\n",
    "# load the dataset\n",
    "(train_x, train_y), (test_x, test_y) = cifar10.load_data()"
   ]
  },
  {
   "cell_type": "code",
   "execution_count": 7,
   "id": "23a926b7",
   "metadata": {},
   "outputs": [],
   "source": [
    "# Preparing the data\n",
    "from tensorflow.keras.utils import to_categorical\n",
    "train_y = to_categorical(train_y)\n",
    "test_y = to_categorical(test_y)\n",
    "\n",
    "train_x = train_x/ 255\n",
    "test_x = test_x /255"
   ]
  },
  {
   "cell_type": "code",
   "execution_count": 3,
   "id": "8fc55312",
   "metadata": {},
   "outputs": [],
   "source": [
    "# Function to split train dataset into sub-training and validation where validation dataset is 1/5 of training set\n",
    "from sklearn.model_selection import train_test_split\n",
    "from numpy import random\n",
    "\n",
    "def train_valid_split(X_data, y_data):\n",
    "    return train_test_split(X_data, y_data, test_size=0.2, shuffle=True)"
   ]
  },
  {
   "cell_type": "code",
   "execution_count": 5,
   "id": "da9b1d7a",
   "metadata": {},
   "outputs": [
    {
     "name": "stdout",
     "output_type": "stream",
     "text": [
      "Epoch 1/30\n",
      "646/646 [==============================] - 228s 348ms/step - loss: 1.6539 - accuracy: 0.3980 - val_loss: 1.3375 - val_accuracy: 0.5254\n",
      "Epoch 2/30\n",
      "646/646 [==============================] - 209s 324ms/step - loss: 1.2421 - accuracy: 0.5649 - val_loss: 1.1092 - val_accuracy: 0.6268\n",
      "Epoch 3/30\n",
      "646/646 [==============================] - 213s 330ms/step - loss: 1.0603 - accuracy: 0.6359 - val_loss: 0.9687 - val_accuracy: 0.6695\n",
      "Epoch 4/30\n",
      "646/646 [==============================] - 218s 337ms/step - loss: 0.9362 - accuracy: 0.6804 - val_loss: 0.8622 - val_accuracy: 0.7102\n",
      "Epoch 5/30\n",
      "646/646 [==============================] - 214s 332ms/step - loss: 0.8464 - accuracy: 0.7135 - val_loss: 0.8204 - val_accuracy: 0.7235\n",
      "Epoch 6/30\n",
      "646/646 [==============================] - 213s 329ms/step - loss: 0.7756 - accuracy: 0.7347 - val_loss: 0.7620 - val_accuracy: 0.7415\n",
      "Epoch 7/30\n",
      "646/646 [==============================] - 216s 334ms/step - loss: 0.7151 - accuracy: 0.7562 - val_loss: 0.7975 - val_accuracy: 0.7305\n",
      "Epoch 8/30\n",
      "646/646 [==============================] - 205s 317ms/step - loss: 0.6638 - accuracy: 0.7770 - val_loss: 0.7173 - val_accuracy: 0.7579\n",
      "Epoch 9/30\n",
      "646/646 [==============================] - 206s 319ms/step - loss: 0.6193 - accuracy: 0.7912 - val_loss: 0.7639 - val_accuracy: 0.7495\n",
      "Epoch 10/30\n",
      "646/646 [==============================] - 215s 333ms/step - loss: 0.5771 - accuracy: 0.8048 - val_loss: 0.7064 - val_accuracy: 0.7698\n",
      "Epoch 11/30\n",
      "646/646 [==============================] - 213s 330ms/step - loss: 0.5377 - accuracy: 0.8210 - val_loss: 0.7045 - val_accuracy: 0.7671\n",
      "Epoch 12/30\n",
      "646/646 [==============================] - 204s 316ms/step - loss: 0.5035 - accuracy: 0.8327 - val_loss: 0.7429 - val_accuracy: 0.7607\n",
      "Epoch 13/30\n",
      "646/646 [==============================] - 216s 335ms/step - loss: 0.4791 - accuracy: 0.8400 - val_loss: 0.6986 - val_accuracy: 0.7701\n",
      "Epoch 14/30\n",
      "646/646 [==============================] - 211s 327ms/step - loss: 0.4479 - accuracy: 0.8501 - val_loss: 0.7114 - val_accuracy: 0.7691\n",
      "Epoch 15/30\n",
      "646/646 [==============================] - 203s 314ms/step - loss: 0.4235 - accuracy: 0.8595 - val_loss: 0.7412 - val_accuracy: 0.7705\n",
      "Epoch 16/30\n",
      "646/646 [==============================] - 128s 198ms/step - loss: 0.4116 - accuracy: 0.8641 - val_loss: 0.7249 - val_accuracy: 0.7752\n",
      "Epoch 17/30\n",
      "646/646 [==============================] - 78s 121ms/step - loss: 0.3909 - accuracy: 0.8712 - val_loss: 0.7164 - val_accuracy: 0.7768\n",
      "Epoch 18/30\n",
      "646/646 [==============================] - 80s 123ms/step - loss: 0.3765 - accuracy: 0.8762 - val_loss: 0.7504 - val_accuracy: 0.7742\n",
      "Epoch 19/30\n",
      "646/646 [==============================] - 86s 132ms/step - loss: 0.3608 - accuracy: 0.8825 - val_loss: 0.7409 - val_accuracy: 0.7738\n",
      "Epoch 20/30\n",
      "646/646 [==============================] - 80s 124ms/step - loss: 0.3500 - accuracy: 0.8862 - val_loss: 0.7378 - val_accuracy: 0.7805\n",
      "Epoch 21/30\n",
      "646/646 [==============================] - 79s 122ms/step - loss: 0.3368 - accuracy: 0.8909 - val_loss: 0.7762 - val_accuracy: 0.7822\n",
      "Epoch 22/30\n",
      "646/646 [==============================] - 78s 121ms/step - loss: 0.3255 - accuracy: 0.8961 - val_loss: 0.7766 - val_accuracy: 0.7774\n",
      "Epoch 23/30\n",
      "646/646 [==============================] - 77s 120ms/step - loss: 0.3142 - accuracy: 0.9019 - val_loss: 0.7854 - val_accuracy: 0.7714\n",
      "Epoch 24/30\n",
      "646/646 [==============================] - 78s 121ms/step - loss: 0.3035 - accuracy: 0.9037 - val_loss: 0.8142 - val_accuracy: 0.7723\n",
      "Epoch 25/30\n",
      "646/646 [==============================] - 82s 126ms/step - loss: 0.2963 - accuracy: 0.9067 - val_loss: 0.7914 - val_accuracy: 0.7779\n",
      "Epoch 26/30\n",
      "646/646 [==============================] - 77s 120ms/step - loss: 0.2934 - accuracy: 0.9082 - val_loss: 0.8037 - val_accuracy: 0.7743\n",
      "Epoch 27/30\n",
      "646/646 [==============================] - 79s 122ms/step - loss: 0.2794 - accuracy: 0.9132 - val_loss: 0.7993 - val_accuracy: 0.7756\n",
      "Epoch 28/30\n",
      "646/646 [==============================] - 78s 120ms/step - loss: 0.2671 - accuracy: 0.9168 - val_loss: 0.7910 - val_accuracy: 0.7784\n",
      "Epoch 29/30\n",
      "646/646 [==============================] - 80s 124ms/step - loss: 0.2719 - accuracy: 0.9157 - val_loss: 0.8153 - val_accuracy: 0.7705\n",
      "Epoch 30/30\n",
      "646/646 [==============================] - 166s 257ms/step - loss: 0.2645 - accuracy: 0.9184 - val_loss: 0.8612 - val_accuracy: 0.7683\n",
      "313/313 [==============================] - 9s 28ms/step - loss: 0.8859 - accuracy: 0.7578\n",
      "Accuracy: 76.0%\n"
     ]
    }
   ],
   "source": [
    "from keras.models import Sequential\n",
    "from keras.layers import Dense, Dropout, Flatten, MaxPool2D\n",
    "from keras.layers.convolutional import Conv2D\n",
    "import tensorflow as tf\n",
    "from keras import regularizers\n",
    "\n",
    "# Architecture 2 - without data augmentation (using dropout, regularizers, conv2d, maxpool2d and dense layers) \n",
    "\n",
    "sub_train_x, sub_val_x, sub_train_y, sub_val_y = train_valid_split(train_x, train_y)\n",
    "model = Sequential()\n",
    "model.add(Conv2D(32, kernel_size=(3, 3), activation='relu', input_shape=(32,32,3), kernel_regularizer=regularizers.l2(l2=0.001)))\n",
    "model.add(Conv2D(64, kernel_size=(3, 3), activation='relu'))\n",
    "model.add(MaxPool2D(pool_size=(2, 2)))\n",
    "model.add(Conv2D(64, kernel_size=(3, 3), activation='relu'))\n",
    "model.add(Conv2D(128, kernel_size=(3, 3), activation='relu'))\n",
    "model.add(MaxPool2D(pool_size=(2, 2)))\n",
    "model.add(Dropout(0.5))\n",
    "model.add(Flatten())\n",
    "model.add(Dense(256, activation='relu'))\n",
    "model.add(Dense(128, activation='relu', activity_regularizer=regularizers.l2(0.001)))\n",
    "model.add(Dense(10, activation='softmax'))\n",
    "\n",
    "optimizer = tf.keras.optimizers.Adam(learning_rate=0.001, beta_1=0.93, beta_2=0.995, epsilon=1e-07)\n",
    "model.compile(optimizer=optimizer, loss='categorical_crossentropy', metrics=['accuracy'])\n",
    "history = model.fit(sub_train_x, sub_train_y, epochs=30, validation_data=(sub_val_x, sub_val_y), batch_size=62)\n",
    "results = model.evaluate(test_x, test_y)\n",
    "acc_result = round(results[1], 2)\n",
    "acc_result = acc_result * 100\n",
    "print(f\"Accuracy: {acc_result}%\")"
   ]
  },
  {
   "cell_type": "code",
   "execution_count": null,
   "id": "fafdcd34",
   "metadata": {},
   "outputs": [],
   "source": []
  }
 ],
 "metadata": {
  "kernelspec": {
   "display_name": "Python 3 (ipykernel)",
   "language": "python",
   "name": "python3"
  },
  "language_info": {
   "codemirror_mode": {
    "name": "ipython",
    "version": 3
   },
   "file_extension": ".py",
   "mimetype": "text/x-python",
   "name": "python",
   "nbconvert_exporter": "python",
   "pygments_lexer": "ipython3",
   "version": "3.9.7"
  }
 },
 "nbformat": 4,
 "nbformat_minor": 5
}
