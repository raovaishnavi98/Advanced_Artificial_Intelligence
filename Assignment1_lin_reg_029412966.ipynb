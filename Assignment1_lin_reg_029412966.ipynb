{
 "cells": [
  {
   "cell_type": "code",
   "execution_count": 429,
   "metadata": {},
   "outputs": [
    {
     "data": {
      "text/plain": [
       "['MedInc',\n",
       " 'HouseAge',\n",
       " 'AveRooms',\n",
       " 'AveBedrms',\n",
       " 'Population',\n",
       " 'AveOccup',\n",
       " 'Latitude',\n",
       " 'Longitude']"
      ]
     },
     "execution_count": 429,
     "metadata": {},
     "output_type": "execute_result"
    }
   ],
   "source": [
    "from sklearn.datasets import fetch_california_housing\n",
    "raw = fetch_california_housing()\n",
    "\n",
    "X = raw.data\n",
    "y = raw.target\n",
    "# Show feature names\n",
    "featr_names = list(raw.feature_names)\n",
    "featr_names"
   ]
  },
  {
   "cell_type": "code",
   "execution_count": 430,
   "metadata": {},
   "outputs": [
    {
     "name": "stdout",
     "output_type": "stream",
     "text": [
      ".. _california_housing_dataset:\n",
      "\n",
      "California Housing dataset\n",
      "--------------------------\n",
      "\n",
      "**Data Set Characteristics:**\n",
      "\n",
      "    :Number of Instances: 20640\n",
      "\n",
      "    :Number of Attributes: 8 numeric, predictive attributes and the target\n",
      "\n",
      "    :Attribute Information:\n",
      "        - MedInc        median income in block\n",
      "        - HouseAge      median house age in block\n",
      "        - AveRooms      average number of rooms\n",
      "        - AveBedrms     average number of bedrooms\n",
      "        - Population    block population\n",
      "        - AveOccup      average house occupancy\n",
      "        - Latitude      house block latitude\n",
      "        - Longitude     house block longitude\n",
      "\n",
      "    :Missing Attribute Values: None\n",
      "\n",
      "This dataset was obtained from the StatLib repository.\n",
      "http://lib.stat.cmu.edu/datasets/\n",
      "\n",
      "The target variable is the median house value for California districts.\n",
      "\n",
      "This dataset was derived from the 1990 U.S. census, using one row per census\n",
      "block group. A block group is the smallest geographical unit for which the U.S.\n",
      "Census Bureau publishes sample data (a block group typically has a population\n",
      "of 600 to 3,000 people).\n",
      "\n",
      "It can be downloaded/loaded using the\n",
      ":func:`sklearn.datasets.fetch_california_housing` function.\n",
      "\n",
      ".. topic:: References\n",
      "\n",
      "    - Pace, R. Kelley and Ronald Barry, Sparse Spatial Autoregressions,\n",
      "      Statistics and Probability Letters, 33 (1997) 291-297\n",
      "\n"
     ]
    }
   ],
   "source": [
    "# Show dataset description\n",
    "dataset_descr = raw.DESCR\n",
    "print(dataset_descr)"
   ]
  },
  {
   "cell_type": "code",
   "execution_count": 431,
   "metadata": {},
   "outputs": [
    {
     "name": "stdout",
     "output_type": "stream",
     "text": [
      "(20640, 8)\n"
     ]
    }
   ],
   "source": [
    "# Show dimension of X\n",
    "dim_X = X.shape\n",
    "print(dim_X)"
   ]
  },
  {
   "cell_type": "code",
   "execution_count": 432,
   "metadata": {},
   "outputs": [
    {
     "name": "stdout",
     "output_type": "stream",
     "text": [
      "(20640,)\n"
     ]
    }
   ],
   "source": [
    "# Show dimension of y\n",
    "dim_y = y.shape\n",
    "print(dim_y)"
   ]
  },
  {
   "cell_type": "code",
   "execution_count": 433,
   "metadata": {},
   "outputs": [],
   "source": [
    "# Split X, y into X_train, X_test, y_train, y_test with 7:3 ratio\n",
    "from sklearn.model_selection import train_test_split\n",
    "\n",
    "X_train, X_test, y_train, y_test = train_test_split(X, y, test_size = 0.3, random_state = 1)"
   ]
  },
  {
   "cell_type": "code",
   "execution_count": 434,
   "metadata": {},
   "outputs": [],
   "source": [
    "# Build a linear regression model with X_train, y_train\n",
    "from sklearn.linear_model import LinearRegression\n",
    "\n",
    "lin_reg_model = LinearRegression().fit(X_train, y_train)"
   ]
  },
  {
   "cell_type": "code",
   "execution_count": 435,
   "metadata": {},
   "outputs": [],
   "source": [
    "# predict y_pred from X_test\n",
    "y_pred = lin_reg_model.predict(X_test)"
   ]
  },
  {
   "cell_type": "code",
   "execution_count": 436,
   "metadata": {},
   "outputs": [
    {
     "name": "stdout",
     "output_type": "stream",
     "text": [
      "[ 4.41037995e-01  9.68801816e-03 -1.04781309e-01  6.22052706e-01\n",
      " -5.61452681e-06 -3.28792384e-03 -4.23182318e-01 -4.37898856e-01]\n",
      "            0         0\n",
      "0      MedInc  0.441038\n",
      "1    HouseAge  0.009688\n",
      "2    AveRooms -0.104781\n",
      "3   AveBedrms  0.622053\n",
      "4  Population -0.000006\n",
      "5    AveOccup -0.003288\n",
      "6    Latitude -0.423182\n",
      "7   Longitude -0.437899 \n",
      "Argmax of coefficients:  3\n"
     ]
    }
   ],
   "source": [
    "# show coefficients of the features and find the argmax of coefficients\n",
    "import numpy as np\n",
    "import pandas as pd\n",
    "\n",
    "x_train = pd.DataFrame(X_train, columns=raw.feature_names)\n",
    "x_test = pd.DataFrame(X_test, columns=raw.feature_names)\n",
    "coef_of_featr = lin_reg_model.coef_\n",
    "coef_argmax = np.argmax(coef_of_featr)\n",
    "print(coef_of_featr)\n",
    "## Creating a pandas dataframe of coefficients and feature names to analyse max coefficient feature\n",
    "coef_dataframe = pd.concat([pd.DataFrame(x_train.columns),pd.DataFrame(np.transpose(coef_of_featr))], axis = 1)\n",
    "print(coef_dataframe, \"\\nArgmax of coefficients: \", coef_argmax)"
   ]
  },
  {
   "cell_type": "code",
   "execution_count": 437,
   "metadata": {},
   "outputs": [
    {
     "data": {
      "text/plain": [
       "(2.0, 15.0)"
      ]
     },
     "execution_count": 437,
     "metadata": {},
     "output_type": "execute_result"
    },
    {
     "data": {
      "image/png": "[encoded data removed]",
      "text/plain": [
       "<Figure size 432x288 with 1 Axes>"
      ]
     },
     "metadata": {
      "needs_background": "light"
     },
     "output_type": "display_data"
    }
   ],
   "source": [
    "# Draw scatter plots of \n",
    "#             max coefficient feature of X_train - y_train as 'x' marker\n",
    "#             max coefficient feature of X_test - y_test as 'o' marker\n",
    "# xlim(2,10)\n",
    "import matplotlib.pyplot as plt\n",
    "\n",
    "## Max coefficient feature analysed above is Average Bedrooms\n",
    "scatter_plot = plt.scatter(x_train['AveBedrms'], y_train, marker = \"x\")\n",
    "scatter_plot = plt.scatter(x_test['AveBedrms'], y_test, marker = \"o\")\n",
    "plt.xlim(2,15)"
   ]
  }
 ],
 "metadata": {
  "kernelspec": {
   "display_name": "Python 3 (ipykernel)",
   "language": "python",
   "name": "python3"
  },
  "language_info": {
   "codemirror_mode": {
    "name": "ipython",
    "version": 3
   },
   "file_extension": ".py",
   "mimetype": "text/x-python",
   "name": "python",
   "nbconvert_exporter": "python",
   "pygments_lexer": "ipython3",
   "version": "3.9.7"
  }
 },
 "nbformat": 4,
 "nbformat_minor": 2
}
