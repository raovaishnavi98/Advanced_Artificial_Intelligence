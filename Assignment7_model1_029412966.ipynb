{
 "cells": [
  {
   "cell_type": "code",
   "execution_count": 6,
   "id": "80831e4b",
   "metadata": {},
   "outputs": [],
   "source": [
    "from matplotlib import pyplot\n",
    "from keras.datasets import cifar10\n",
    "\n",
    "# load the dataset\n",
    "(train_x, train_y), (test_x, test_y) = cifar10.load_data()"
   ]
  },
  {
   "cell_type": "code",
   "execution_count": 7,
   "id": "4927f1c9",
   "metadata": {},
   "outputs": [],
   "source": [
    "# Preparing the data\n",
    "from tensorflow.keras.utils import to_categorical\n",
    "train_y = to_categorical(train_y)\n",
    "test_y = to_categorical(test_y)\n",
    "\n",
    "train_x = train_x/ 255\n",
    "test_x = test_x /255"
   ]
  },
  {
   "cell_type": "code",
   "execution_count": 3,
   "id": "6d450ce4",
   "metadata": {},
   "outputs": [],
   "source": [
    "# Function to split train dataset into sub-training and validation where validation dataset is 1/5 of training set\n",
    "from sklearn.model_selection import train_test_split\n",
    "from numpy import random\n",
    "\n",
    "def train_valid_split(X_data, y_data):\n",
    "    return train_test_split(X_data, y_data, test_size=0.2, shuffle=True)"
   ]
  },
  {
   "cell_type": "code",
   "execution_count": 4,
   "id": "2e612fa2",
   "metadata": {},
   "outputs": [
    {
     "name": "stdout",
     "output_type": "stream",
     "text": [
      "Epoch 1/30\n",
      "678/678 [==============================] - 229s 325ms/step - loss: 1.6005 - accuracy: 0.4065 - val_loss: 1.3010 - val_accuracy: 0.5291\n",
      "Epoch 2/30\n",
      "678/678 [==============================] - 226s 334ms/step - loss: 1.1429 - accuracy: 0.5901 - val_loss: 0.9857 - val_accuracy: 0.6475\n",
      "Epoch 3/30\n",
      "678/678 [==============================] - 223s 328ms/step - loss: 0.9015 - accuracy: 0.6816 - val_loss: 0.8407 - val_accuracy: 0.7101\n",
      "Epoch 4/30\n",
      "678/678 [==============================] - 216s 319ms/step - loss: 0.7496 - accuracy: 0.7355 - val_loss: 0.8199 - val_accuracy: 0.7145\n",
      "Epoch 5/30\n",
      "678/678 [==============================] - 215s 318ms/step - loss: 0.6265 - accuracy: 0.7802 - val_loss: 0.7961 - val_accuracy: 0.7256\n",
      "Epoch 6/30\n",
      "678/678 [==============================] - 221s 325ms/step - loss: 0.5192 - accuracy: 0.8170 - val_loss: 0.8064 - val_accuracy: 0.7290\n",
      "Epoch 7/30\n",
      "678/678 [==============================] - 212s 313ms/step - loss: 0.4203 - accuracy: 0.8518 - val_loss: 0.8019 - val_accuracy: 0.7435\n",
      "Epoch 8/30\n",
      "678/678 [==============================] - 213s 314ms/step - loss: 0.3349 - accuracy: 0.8814 - val_loss: 0.9894 - val_accuracy: 0.7257\n",
      "Epoch 9/30\n",
      "678/678 [==============================] - 173s 255ms/step - loss: 0.2689 - accuracy: 0.9051 - val_loss: 0.9666 - val_accuracy: 0.7403\n",
      "Epoch 10/30\n",
      "678/678 [==============================] - 150s 222ms/step - loss: 0.2127 - accuracy: 0.9243 - val_loss: 1.1100 - val_accuracy: 0.7330\n",
      "Epoch 11/30\n",
      "678/678 [==============================] - 154s 227ms/step - loss: 0.1791 - accuracy: 0.9374 - val_loss: 1.1722 - val_accuracy: 0.7268\n",
      "Epoch 12/30\n",
      "678/678 [==============================] - 160s 236ms/step - loss: 0.1476 - accuracy: 0.9487 - val_loss: 1.3039 - val_accuracy: 0.7356\n",
      "Epoch 13/30\n",
      "678/678 [==============================] - 153s 225ms/step - loss: 0.1271 - accuracy: 0.9554 - val_loss: 1.3527 - val_accuracy: 0.7342\n",
      "Epoch 14/30\n",
      "678/678 [==============================] - 120s 177ms/step - loss: 0.1166 - accuracy: 0.9600 - val_loss: 1.3903 - val_accuracy: 0.7334\n",
      "Epoch 15/30\n",
      "678/678 [==============================] - 205s 303ms/step - loss: 0.1078 - accuracy: 0.9635 - val_loss: 1.4220 - val_accuracy: 0.7349\n",
      "Epoch 16/30\n",
      "678/678 [==============================] - 203s 300ms/step - loss: 0.1087 - accuracy: 0.9633 - val_loss: 1.5109 - val_accuracy: 0.7299\n",
      "Epoch 17/30\n",
      "678/678 [==============================] - 212s 313ms/step - loss: 0.0971 - accuracy: 0.9676 - val_loss: 1.4764 - val_accuracy: 0.7375\n",
      "Epoch 18/30\n",
      "678/678 [==============================] - 212s 313ms/step - loss: 0.0924 - accuracy: 0.9697 - val_loss: 1.4878 - val_accuracy: 0.7314\n",
      "Epoch 19/30\n",
      "678/678 [==============================] - 211s 311ms/step - loss: 0.0879 - accuracy: 0.9711 - val_loss: 1.4917 - val_accuracy: 0.7333\n",
      "Epoch 20/30\n",
      "678/678 [==============================] - 213s 314ms/step - loss: 0.0786 - accuracy: 0.9730 - val_loss: 1.5426 - val_accuracy: 0.7373\n",
      "Epoch 21/30\n",
      "678/678 [==============================] - 213s 314ms/step - loss: 0.0737 - accuracy: 0.9760 - val_loss: 1.6391 - val_accuracy: 0.7298\n",
      "Epoch 22/30\n",
      "678/678 [==============================] - 205s 302ms/step - loss: 0.0737 - accuracy: 0.9755 - val_loss: 1.6646 - val_accuracy: 0.7312\n",
      "Epoch 23/30\n",
      "678/678 [==============================] - 212s 312ms/step - loss: 0.0745 - accuracy: 0.9754 - val_loss: 1.5951 - val_accuracy: 0.7307\n",
      "Epoch 24/30\n",
      "678/678 [==============================] - 206s 305ms/step - loss: 0.0655 - accuracy: 0.9783 - val_loss: 1.6732 - val_accuracy: 0.7234\n",
      "Epoch 25/30\n",
      "678/678 [==============================] - 211s 311ms/step - loss: 0.0660 - accuracy: 0.9794 - val_loss: 1.8293 - val_accuracy: 0.7313\n",
      "Epoch 26/30\n",
      "678/678 [==============================] - 213s 314ms/step - loss: 0.0629 - accuracy: 0.9796 - val_loss: 1.7420 - val_accuracy: 0.7340\n",
      "Epoch 27/30\n",
      "678/678 [==============================] - 205s 303ms/step - loss: 0.0609 - accuracy: 0.9804 - val_loss: 1.7258 - val_accuracy: 0.7409\n",
      "Epoch 28/30\n",
      "678/678 [==============================] - 211s 311ms/step - loss: 0.0604 - accuracy: 0.9804 - val_loss: 1.8167 - val_accuracy: 0.7297\n",
      "Epoch 29/30\n",
      "678/678 [==============================] - 212s 312ms/step - loss: 0.0559 - accuracy: 0.9818 - val_loss: 1.7337 - val_accuracy: 0.7331\n",
      "Epoch 30/30\n",
      "678/678 [==============================] - 149s 219ms/step - loss: 0.0551 - accuracy: 0.9822 - val_loss: 1.7764 - val_accuracy: 0.7450\n",
      "313/313 [==============================] - 10s 32ms/step - loss: 1.7860 - accuracy: 0.7424\n",
      "Accuracy: 74.0%\n"
     ]
    }
   ],
   "source": [
    "from keras.models import Sequential\n",
    "from keras.layers import Dense, Dropout, Flatten, MaxPool2D\n",
    "from keras.layers.convolutional import Conv2D\n",
    "import tensorflow as tf\n",
    "\n",
    "# Architecture 1 - without using dropout, regularizers, data augmentation (using conv2d, maxpool2d and dense layers)\n",
    "\n",
    "\n",
    "sub_train_x, sub_val_x, sub_train_y, sub_val_y = train_valid_split(train_x, train_y)\n",
    "model = Sequential()\n",
    "model.add(Conv2D(32, kernel_size=(3, 3), activation='relu', input_shape=(32,32,3)))\n",
    "model.add(Conv2D(64, kernel_size=(3, 3), activation='relu'))\n",
    "model.add(MaxPool2D(pool_size=(2, 2)))\n",
    "model.add(Conv2D(64, kernel_size=(3, 3), activation='tanh'))\n",
    "model.add(Conv2D(128, kernel_size=(3, 3), activation='relu'))\n",
    "model.add(MaxPool2D(pool_size=(2, 2)))\n",
    "model.add(Flatten())\n",
    "model.add(Dense(256, activation='relu'))\n",
    "model.add(Dense(128, activation='relu'))\n",
    "model.add(Dense(64, activation='relu'))\n",
    "model.add(Dense(10, activation='softmax'))\n",
    "\n",
    "optimizer = tf.keras.optimizers.Adam(learning_rate=0.001, beta_1=0.93, beta_2=0.995, epsilon=1e-07)\n",
    "model.compile(optimizer=optimizer, loss='categorical_crossentropy', metrics=['accuracy'])\n",
    "history = model.fit(sub_train_x, sub_train_y, epochs=30, validation_data=(sub_val_x, sub_val_y), batch_size=59)\n",
    "results = model.evaluate(test_x, test_y)\n",
    "acc_result = round(results[1], 2)\n",
    "acc_result = acc_result * 100\n",
    "print(f\"Accuracy: {acc_result}%\")"
   ]
  },
  {
   "cell_type": "code",
   "execution_count": null,
   "id": "23747958",
   "metadata": {},
   "outputs": [],
   "source": []
  }
 ],
 "metadata": {
  "kernelspec": {
   "display_name": "Python 3 (ipykernel)",
   "language": "python",
   "name": "python3"
  },
  "language_info": {
   "codemirror_mode": {
    "name": "ipython",
    "version": 3
   },
   "file_extension": ".py",
   "mimetype": "text/x-python",
   "name": "python",
   "nbconvert_exporter": "python",
   "pygments_lexer": "ipython3",
   "version": "3.9.7"
  }
 },
 "nbformat": 4,
 "nbformat_minor": 5
}
